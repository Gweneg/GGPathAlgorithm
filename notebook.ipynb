{
 "cells": [
  {
   "metadata": {},
   "cell_type": "markdown",
   "source": [
    "### Underlying Data Stuff\n",
    "\n",
    "All the stuff needed to represent the algorithm; like the basic datatypes and some helpers are here."
   ],
   "id": "d2558d2c4accbed2"
  },
  {
   "metadata": {
    "ExecuteTime": {
     "end_time": "2025-08-24T04:52:50.106654Z",
     "start_time": "2025-08-24T04:52:50.099156Z"
    }
   },
   "cell_type": "code",
   "source": [
    "## Path Class definition.\n",
    "\n",
    "class Path:\n",
    "    def __init__(self):\n",
    "        self.edges = []\n",
    "        self.nodes = []\n",
    "\n",
    "    def add_edge(self, edge):\n",
    "        self.edges.append(edge)\n",
    "\n",
    "    def add_edges(self, edges):\n",
    "        self.edges.extend(edges)\n",
    "\n",
    "    def add_node(self, node):\n",
    "        self.nodes.append(node)\n",
    "\n",
    "    def add_nodes(self, nodes):\n",
    "        self.nodes.extend(nodes)"
   ],
   "id": "8b67cefd7492af77",
   "outputs": [],
   "execution_count": 1
  },
  {
   "metadata": {
    "ExecuteTime": {
     "end_time": "2025-08-24T04:52:50.122179Z",
     "start_time": "2025-08-24T04:52:50.109155Z"
    }
   },
   "cell_type": "code",
   "source": [
    "## Edge Class definition.\n",
    "\n",
    "class Edge:\n",
    "    def __init__(self, start_node, end_node):\n",
    "        self.start = start_node\n",
    "        self.end = end_node"
   ],
   "id": "33b1c4e6d704d84",
   "outputs": [],
   "execution_count": 2
  },
  {
   "metadata": {
    "tags": [],
    "ExecuteTime": {
     "end_time": "2025-08-24T04:52:50.137682Z",
     "start_time": "2025-08-24T04:52:50.124681Z"
    }
   },
   "cell_type": "code",
   "source": [
    "## Node Class definition.\n",
    "\n",
    "class Node:\n",
    "    def __init__(self, x, y):\n",
    "        self.x = x\n",
    "        self.y = y"
   ],
   "id": "9e249d678cbb8489",
   "outputs": [],
   "execution_count": 3
  },
  {
   "metadata": {},
   "cell_type": "markdown",
   "source": [
    "### Algorithm Stuff\n",
    "\n",
    "Anything pertaining to the actual algorithm (along with helper methods) I've come up with is in here.\n",
    "\n",
    "The algorithm starts with a simple process:\n",
    "\n",
    "1. Choose a <blue_t>starting point</blue_t>, and an <pink_t>ending point</pink_t>.\n",
    "2. Create <orange>rooms</orange> from the <blue_t>starting point</blue_t> to the <pink_t>ending point</pink_t>.\n",
    "3. Randomly nudge the <orange>rooms</orange>' positions around.\n",
    "4. Create <les_pink>hallways</les_pink> between each neighboring <orange>room</orange>.\n",
    "\n",
    "Let's call these four steps creating one <green>path</green>. Next:\n",
    "\n",
    "1. Generate two <green>paths</green>, let's call one <blue>main</blue> and one <light_blue>alt</light_blue>.\n",
    "2. Create a <les_pink>hallway</les_pink> between each <orange>room</orange> in <blue>main</blue> to the corresponding <orange>room</orange> in <light_blue>alt</light_blue>.\n",
    "3. Delete an arbitrary percentage of random <orange>rooms</orange> from <light_blue>alt</light_blue>.\n",
    "4. Delete any <les_pink>hallways</les_pink> that are missing a <orange>room</orange>.\n",
    "5. Delete any <orange>rooms</orange> that are now orphaned from <blue>main</blue>.\n",
    "\n",
    "Now, this will create a path that has a lot of loops and city block/\"grid\" style connections. We might not want that since it sorta removes mystery and any larger consequence for choosing path A or B, since they'll immediately end or continue forward. To address this, let's tune our process by adjusting step 3:\n",
    "\n",
    "1. Reduce the arbitrary percent of <orange>rooms</orange> we delete from <light_blue>alt</light_blue>.\n",
    "2. Randomly delete an arbitrary percent of <les_pink>hallways</les_pink> between <blue>main</blue> and <light_blue>alt</light_blue>.\n",
    "\n",
    "In this implementation, I'm:\n",
    "\n",
    "1. Representing each <orange>room</orange> as the Node class. A Node is just a point with an X and Y coordinate.\n",
    "2. Representing each <les_pink>hallway</les_pink> as the Edge class. An Edge is just a connection between two nodes.\n",
    "\n",
    "<style>\n",
    "pink_t {\n",
    "    color:#F5A9B8;\n",
    "}\n",
    "blue_t {\n",
    "    color:#5BCEFA\n",
    "}\n",
    "white {\n",
    "    color:#FFFFFF\n",
    "}\n",
    "orange {\n",
    "    color:#EF7627\n",
    "}\n",
    "les_pink {\n",
    "    color:#D162A4\n",
    "}\n",
    "green {\n",
    "    color:#008026\n",
    "}\n",
    "blue {\n",
    "    color:#004DFF\n",
    "}\n",
    "light_blue {\n",
    "    color:#74D7EE\n",
    "}\n",
    "</style>"
   ],
   "id": "bdc50686a0bfc82e"
  },
  {
   "metadata": {
    "ExecuteTime": {
     "end_time": "2025-08-24T04:52:50.153181Z",
     "start_time": "2025-08-24T04:52:50.140180Z"
    }
   },
   "cell_type": "code",
   "source": [
    "## Interpolate Helper.\n",
    "# Generates points between a start and end node.\n",
    "\n",
    "def interpolate(start_node, end_node, num_points, include_start=False, include_end=False):\n",
    "    # Create the returned list.\n",
    "    interpolated_points = []\n",
    "\n",
    "    # Compute the offsets.\n",
    "    intervals = num_points + 1\n",
    "    offset_x = (end_node.x - start_node.x) / intervals\n",
    "    offset_y = (end_node.y - start_node.y) / intervals\n",
    "\n",
    "    # Generate the points.\n",
    "    for i in range(num_points):\n",
    "        x = start_node.x + offset_x * (i + 1)\n",
    "        y = start_node.y + offset_y * (i + 1)\n",
    "        interpolated_points.append(Node(x, y))\n",
    "\n",
    "    # Optionally include the start and end points.\n",
    "    if include_start:\n",
    "        interpolated_points.insert(0, start_node)\n",
    "    if include_end:\n",
    "        interpolated_points.append(end_node)\n",
    "\n",
    "    return interpolated_points"
   ],
   "id": "9eeba6dc4f8c3883",
   "outputs": [],
   "execution_count": 4
  },
  {
   "metadata": {
    "ExecuteTime": {
     "end_time": "2025-08-24T04:52:50.556181Z",
     "start_time": "2025-08-24T04:52:50.155680Z"
    }
   },
   "cell_type": "code",
   "source": [
    "## Node Position Nudge Helper\n",
    "# Adds random noise to the positions of nodes in a path.\n",
    "\n",
    "import scipy.stats as stats\n",
    "\n",
    "def fuzz_nodes(path, intensity=1.0, distribution=None, exclude_start=True, exclude_end=True):\n",
    "    if distribution is None:\n",
    "        # Discrete distribution.\n",
    "        distribution = stats.norm(0, 0.5) # Mean 0, stddev 0.5\n",
    "\n",
    "    coin_flip = stats.randint(0, 2)\n",
    "\n",
    "    for node in path.nodes:\n",
    "        if exclude_start and node == path.nodes[0]:\n",
    "            continue\n",
    "        if exclude_end and node == path.nodes[-1]:\n",
    "            continue\n",
    "\n",
    "        # Flip a coin to offset in positive or negative direction.\n",
    "        x_sign = 1\n",
    "        if coin_flip.rvs() == 0:\n",
    "            x_sign = -1\n",
    "\n",
    "        y_sign = 1\n",
    "        if coin_flip.rvs() == 0:\n",
    "            y_sign = -1\n",
    "\n",
    "        # Calculate the distance.\n",
    "        distance = distribution.rvs() * intensity\n",
    "        x_percent = random.random()\n",
    "        y_percent = 1.0 - x_percent\n",
    "\n",
    "        # Nudge the node's position.\n",
    "        node.x += x_sign * distance * (x_percent ** 0.5)\n",
    "        node.y += y_sign * distance * (y_percent ** 0.5)"
   ],
   "id": "192adaad8d503af9",
   "outputs": [],
   "execution_count": 5
  },
  {
   "metadata": {
    "ExecuteTime": {
     "end_time": "2025-08-24T04:52:50.571680Z",
     "start_time": "2025-08-24T04:52:50.559180Z"
    }
   },
   "cell_type": "code",
   "source": [
    "## Path Helper\n",
    "# Creates a path (a series of connected nodes) between a start and end node.\n",
    "\n",
    "def create_path(start_node, end_node, num_points):\n",
    "    # Create a path.\n",
    "    path = Path()\n",
    "\n",
    "    # Interpolate points between the start and finish.\n",
    "    interpolated_points = interpolate(start_node, end_node, num_points - 2, True, True)\n",
    "\n",
    "    # Add nodes to the path.\n",
    "    path.add_nodes(interpolated_points)\n",
    "\n",
    "    # Create edges between the nodes.\n",
    "    edges = []\n",
    "    for i in range(len(interpolated_points) - 1):\n",
    "        edge = Edge(interpolated_points[i], interpolated_points[i + 1])\n",
    "        edges.append(edge)\n",
    "\n",
    "    # Add edges to the path.\n",
    "    path.add_edges(edges)\n",
    "\n",
    "    return path"
   ],
   "id": "f1f70f29d4b2505b",
   "outputs": [],
   "execution_count": 6
  },
  {
   "metadata": {
    "ExecuteTime": {
     "end_time": "2025-08-24T04:52:50.587180Z",
     "start_time": "2025-08-24T04:52:50.574179Z"
    }
   },
   "cell_type": "code",
   "source": [
    "## Path Creation Helper\n",
    "# Creates a path with the given\n",
    "\n",
    "def create_fuzzed_path(start_node, end_node, num_points, intensity=1.0, distribution=None):\n",
    "\n",
    "    # Create the path.\n",
    "    path = create_path(start_node, end_node, num_points)\n",
    "\n",
    "    # Post-process the path.\n",
    "    fuzz_nodes(path, intensity, distribution=distribution)\n",
    "\n",
    "    return path"
   ],
   "id": "b0d82cd02e66c7fa",
   "outputs": [],
   "execution_count": 7
  },
  {
   "metadata": {
    "ExecuteTime": {
     "end_time": "2025-08-24T04:52:50.602679Z",
     "start_time": "2025-08-24T04:52:50.589679Z"
    }
   },
   "cell_type": "code",
   "source": [
    "## Cross-path Connection Helper\n",
    "# Connects two paths together by creating edges between corresponding nodes.\n",
    "\n",
    "def cross_connect_paths(path_a, path_b):\n",
    "    # Create edges between corresponding nodes in the two paths.\n",
    "    edges = []\n",
    "    for node_a, node_b in zip(path_a.nodes, path_b.nodes):\n",
    "        if node_a == node_b:\n",
    "            continue\n",
    "\n",
    "        edge = Edge(node_a, node_b)\n",
    "        edges.append(edge)\n",
    "\n",
    "    return edges"
   ],
   "id": "720f54fed9190eeb",
   "outputs": [],
   "execution_count": 8
  },
  {
   "metadata": {
    "ExecuteTime": {
     "end_time": "2025-08-24T04:52:50.618178Z",
     "start_time": "2025-08-24T04:52:50.605181Z"
    }
   },
   "cell_type": "code",
   "source": [
    "## Random Deletion Helper\n",
    "# Randomly deletes a percentage of nodes from a path.\n",
    "\n",
    "import random\n",
    "\n",
    "def randomly_delete(items, percent, protect_bounds=True):\n",
    "    # Create a return copy of the nodes.\n",
    "    items = list(items)\n",
    "\n",
    "    # Grab the nodes that can be deleted.\n",
    "    if protect_bounds:\n",
    "        deletable_items = items[1:-1]\n",
    "    else:\n",
    "        deletable_items = items[:]\n",
    "\n",
    "    # Calculate the number of nodes to delete.\n",
    "    num_to_delete = int(len(deletable_items) * percent)\n",
    "\n",
    "    # Randomly select nodes to delete.\n",
    "    items_to_delete = random.sample(deletable_items, num_to_delete)\n",
    "\n",
    "    # Delete the selected nodes from the path.\n",
    "    for item in items_to_delete:\n",
    "        items.remove(item)\n",
    "\n",
    "    return items"
   ],
   "id": "bfdd82757b5fbf1c",
   "outputs": [],
   "execution_count": 9
  },
  {
   "metadata": {
    "ExecuteTime": {
     "end_time": "2025-08-24T04:52:50.633679Z",
     "start_time": "2025-08-24T04:52:50.620679Z"
    }
   },
   "cell_type": "code",
   "source": [
    "## Edge Cleanup Helper\n",
    "# Removes edges that reference nodes not in the supplied list.\n",
    "\n",
    "def cleanup_edges(dirty_edges, valid_nodes):\n",
    "    cleaned_edges = []\n",
    "    for edge in dirty_edges:\n",
    "        if edge.start in valid_nodes and edge.end in valid_nodes:\n",
    "            cleaned_edges.append(edge)\n",
    "    return cleaned_edges"
   ],
   "id": "332215befc70bcc8",
   "outputs": [],
   "execution_count": 10
  },
  {
   "metadata": {
    "ExecuteTime": {
     "end_time": "2025-08-24T04:52:50.649179Z",
     "start_time": "2025-08-24T04:52:50.636179Z"
    }
   },
   "cell_type": "code",
   "source": [
    "## Orphaned Node Cleanup Helper\n",
    "# Removes any nodes from the given paths that are not connected to the main path (directly or indirectly).\n",
    "\n",
    "def cleanup_orphaned_nodes(main_path, alt_paths):\n",
    "    # Flood-fill from the main path to find all connected nodes, then delete any nodes not found.\n",
    "    connected_nodes = set(main_path.nodes)\n",
    "    nodes_to_check = list(main_path.nodes)\n",
    "\n",
    "    while nodes_to_check:\n",
    "        # Get the next node to check.\n",
    "        current_node = nodes_to_check.pop()\n",
    "        # Get all nodes from the alt paths which connect to the current node, which isn't already added.\n",
    "        for path in alt_paths:\n",
    "            for edge in path.edges:\n",
    "                if edge.start == current_node and edge.end not in connected_nodes:\n",
    "                    connected_nodes.add(edge.end)\n",
    "                    nodes_to_check.append(edge.end)\n",
    "                elif edge.end == current_node and edge.start not in connected_nodes:\n",
    "                    connected_nodes.add(edge.start)\n",
    "                    nodes_to_check.append(edge.start)\n",
    "\n",
    "    # Remove any nodes from the alt paths which aren't connected.\n",
    "    for path in alt_paths:\n",
    "        path.nodes = [node for node in path.nodes if node in connected_nodes]\n",
    "        path.edges = cleanup_edges(path.edges, connected_nodes)"
   ],
   "id": "b64df6cf8d129c84",
   "outputs": [],
   "execution_count": 11
  },
  {
   "metadata": {},
   "cell_type": "markdown",
   "source": [
    "### Visualization Stuff\n",
    "Anything that helps the visualization of the algorithm is in here."
   ],
   "id": "d1ef5bf799e844ec"
  },
  {
   "metadata": {
    "ExecuteTime": {
     "end_time": "2025-08-24T04:52:50.664679Z",
     "start_time": "2025-08-24T04:52:50.651681Z"
    }
   },
   "cell_type": "code",
   "source": [
    "## Graph Style Class\n",
    "# A simple helper class to hold graph styling info.\n",
    "\n",
    "class GraphStyle:\n",
    "    def __init__(self, line_color='blue', line_style='-', node_color='blue', node_shape='o'):\n",
    "        self.line_color = line_color\n",
    "        self.line_style = line_style\n",
    "        self.node_color = node_color\n",
    "        self.node_shape = node_shape"
   ],
   "id": "894302d3c5f93901",
   "outputs": [],
   "execution_count": 12
  },
  {
   "metadata": {
    "ExecuteTime": {
     "end_time": "2025-08-24T04:52:50.680180Z",
     "start_time": "2025-08-24T04:52:50.667182Z"
    }
   },
   "cell_type": "code",
   "source": [
    "## Edge Plotting Helper\n",
    "# Plots edges using matplotlib.\n",
    "\n",
    "def plot_edges(edges, graph_style, axis):\n",
    "    # Graph each edge as a line\n",
    "    for edge in edges:\n",
    "        x_values = [edge.start.x, edge.end.x]\n",
    "        y_values = [edge.start.y, edge.end.y]\n",
    "        axis.plot(x_values, y_values, graph_style.line_style, color=graph_style.line_color)\n"
   ],
   "id": "c7773c1384da8d84",
   "outputs": [],
   "execution_count": 13
  },
  {
   "metadata": {
    "ExecuteTime": {
     "end_time": "2025-08-24T04:52:50.695679Z",
     "start_time": "2025-08-24T04:52:50.682679Z"
    }
   },
   "cell_type": "code",
   "source": [
    "## Node Plotting Helper\n",
    "# Plots nodes using matplotlib.\n",
    "\n",
    "def plot_nodes(nodes, graph_style, axis):\n",
    "    # Graph each node as a point\n",
    "    for node in nodes:\n",
    "        axis.plot(node.x, node.y, graph_style.node_shape, color=graph_style.node_color)"
   ],
   "id": "7f703f8c84d340b4",
   "outputs": [],
   "execution_count": 14
  },
  {
   "metadata": {
    "ExecuteTime": {
     "end_time": "2025-08-24T04:52:50.943680Z",
     "start_time": "2025-08-24T04:52:50.698180Z"
    }
   },
   "cell_type": "code",
   "source": [
    "## Path Plotting Helper\n",
    "# Plots a path using matplotlib.\n",
    "\n",
    "import matplotlib.pyplot as plt\n",
    "\n",
    "def plot_path(path, graph_style=None, axis=None):\n",
    "    # Set default styles if none provided.\n",
    "    if graph_style is None:\n",
    "        graph_style = GraphStyle()\n",
    "\n",
    "    # Set up the figure if it wasn't provided.\n",
    "    if axis is None:\n",
    "        figure, axis = plt.subplots()\n",
    "        axis.set_title(\"Path Visualization\")\n",
    "        axis.set_xlabel(\"X-axis\")\n",
    "        axis.set_ylabel(\"Y-axis\")\n",
    "        axis.grid(True)\n",
    "\n",
    "    # Plot edges and nodes using helper functions\n",
    "    plot_edges(path.edges, graph_style, axis)\n",
    "    plot_nodes(path.nodes, graph_style, axis)\n",
    "\n",
    "    return axis"
   ],
   "id": "a686f2afdf5bf540",
   "outputs": [],
   "execution_count": 15
  },
  {
   "metadata": {
    "ExecuteTime": {
     "end_time": "2025-08-24T04:52:50.959181Z",
     "start_time": "2025-08-24T04:52:50.948680Z"
    }
   },
   "cell_type": "code",
   "source": [
    "## Multiple Path Plotting Helper\n",
    "# Plots multiple paths using matplotlib.\n",
    "\n",
    "def plot_paths(paths, graph_styles=None):\n",
    "    # Set default styles if none provided.\n",
    "    if graph_styles is None:\n",
    "        graph_styles = [GraphStyle() for _ in paths]\n",
    "\n",
    "    # Set up the figure.\n",
    "    figure, axis = plt.subplots()\n",
    "    axis.set_title(\"Paths Visualization\")\n",
    "    axis.set_xlabel(\"X-axis\")\n",
    "    axis.set_ylabel(\"Y-axis\")\n",
    "    axis.grid(True)\n",
    "\n",
    "    # Plot each path.\n",
    "    for path, style in zip(paths, graph_styles):\n",
    "        plot_path(path, style, axis)\n",
    "\n",
    "    return axis"
   ],
   "id": "a6fc434cf70725df",
   "outputs": [],
   "execution_count": 16
  },
  {
   "metadata": {},
   "cell_type": "markdown",
   "source": [
    "## Sample\n",
    "Just a sample of the algorithm in use."
   ],
   "id": "fa560d728dc2195"
  },
  {
   "metadata": {
    "ExecuteTime": {
     "end_time": "2025-08-24T04:52:57.558893Z",
     "start_time": "2025-08-24T04:52:57.480894Z"
    }
   },
   "cell_type": "code",
   "source": [
    "# Settings for the paths.\n",
    "end_x = 10.0\n",
    "end_y = 10.0\n",
    "points = 10\n",
    "\n",
    "graph_style_main = GraphStyle(line_color='#004DFF', line_style='-', node_color='#004DFF', node_shape='o')\n",
    "graph_style_alt = GraphStyle(line_color='#74D7EE', line_style='-', node_color='#74D7EE', node_shape='o')\n",
    "graph_styles_paths = [graph_style_main, graph_style_alt]\n",
    "\n",
    "fuzz_distance_main = 0.0\n",
    "fuzz_distance_alt = 1.0\n",
    "fuzz_distribution_main = stats.beta(a=4, b=5)\n",
    "fuzz_distribution_alt = stats.beta(a=30, b=4)\n",
    "\n",
    "# Create start/end nodes.\n",
    "start = Node(0.0, 0.0)\n",
    "end = Node(end_x, end_y)\n",
    "\n",
    "# Create the paths.\n",
    "path_a = create_fuzzed_path(start, end, num_points=points, intensity=fuzz_distance_main, distribution=fuzz_distribution_main)\n",
    "path_b = create_fuzzed_path(start, end, num_points=points, intensity=fuzz_distance_alt, distribution=fuzz_distribution_alt)\n",
    "\n",
    "# Cross-connect the paths, delete random nodes, then clean the nodes up.\n",
    "path_b.add_edges(cross_connect_paths(path_a, path_b))\n",
    "path_b.nodes = randomly_delete(path_b.nodes, percent=0.3)\n",
    "path_b.edges = cleanup_edges(path_b.edges, valid_nodes=path_a.nodes + path_b.nodes)\n",
    "\n",
    "# Remove any orphaned nodes from the alt path.\n",
    "cleanup_orphaned_nodes(path_a, [path_b])\n",
    "\n",
    "# Display the paths.\n",
    "paths = [path_a, path_b]\n",
    "axis = plot_paths(paths, graph_styles_paths)\n",
    "plt.show()"
   ],
   "id": "fcad07c3978a8225",
   "outputs": [
    {
     "data": {
      "text/plain": [
       "<Figure size 640x480 with 1 Axes>"
      ],
      "image/png": "[encoded data removed]"
     },
     "metadata": {},
     "output_type": "display_data"
    }
   ],
   "execution_count": 20
  }
 ],
 "metadata": {
  "kernelspec": {
   "display_name": "Python 3",
   "language": "python",
   "name": "python3"
  },
  "language_info": {
   "codemirror_mode": {
    "name": "ipython",
    "version": 2
   },
   "file_extension": ".py",
   "mimetype": "text/x-python",
   "name": "python",
   "nbconvert_exporter": "python",
   "pygments_lexer": "ipython2",
   "version": "2.7.6"
  }
 },
 "nbformat": 4,
 "nbformat_minor": 5
}
